{
 "cells": [
  {
   "cell_type": "markdown",
   "metadata": {},
   "source": [
    "## Setup"
   ]
  },
  {
   "cell_type": "code",
   "execution_count": 1,
   "metadata": {},
   "outputs": [],
   "source": [
    "import os\n",
    "import re\n",
    "import pandas as pd\n",
    "from string import printable"
   ]
  },
  {
   "cell_type": "code",
   "execution_count": 2,
   "metadata": {},
   "outputs": [],
   "source": [
    "ROOT_DIR = os.path.join('/notebooks/horoscope')\n",
    "DATA_DIR = os.path.join(ROOT_DIR, 'data')"
   ]
  },
  {
   "cell_type": "markdown",
   "metadata": {},
   "source": [
    "## Pre-process\n",
    "\n",
    "### EDA based cleaning:\n",
    "\n",
    "- Remove duplicate texts from all categories. ✅ \n",
    "\n",
    "- Replace special font characters with regular font characters. ✅ \n",
    "\n",
    "- Replace sign names in texts with a generic word like *friend*. ✅ "
   ]
  },
  {
   "cell_type": "code",
   "execution_count": 3,
   "metadata": {},
   "outputs": [
    {
     "name": "stdout",
     "output_type": "stream",
     "text": [
      "--------------------------------------------------\n",
      "Original Date Shape: (21960, 4)\n",
      "Removing duplicates...\n",
      "New Data Shape (12051, 4)\n",
      "File Saved.\n",
      "Success!\n",
      "--------------------------------------------------\n"
     ]
    }
   ],
   "source": [
    "import os\n",
    "import re\n",
    "import pandas as pd\n",
    "from string import printable\n",
    "from typing import List\n",
    "\n",
    "# set globals\n",
    "ROOT_DIR = os.path.join('/notebooks/horoscope')\n",
    "DATA_DIR = os.path.join(ROOT_DIR, 'data')\n",
    "\n",
    "def remove_duplicates(data_frame:pd.DataFrame) -> pd.DataFrame:\n",
    "    \"\"\"Remove duplicates from column text\"\"\"\n",
    "    df_duplicated = data_frame[data_frame.duplicated(subset='text')]\n",
    "    df_new = data_frame.drop(df_duplicated.index)\n",
    "    return df_new\n",
    "\n",
    "def replace_special_chars(text:str):\n",
    "    \"\"\"Replace special font characters with regular font characters\"\"\"\n",
    "    new_str = re.sub(\"’\", \"'\", text)\n",
    "    new_str = re.sub(\"–\", \"-\", new_str)\n",
    "    new_str = re.sub('“', '\"', new_str)\n",
    "    new_str = re.sub('”', '\"', new_str)\n",
    "    new_str = re.sub(\"…\", \".\", new_str)\n",
    "    return new_str\n",
    "    \n",
    "def replace_signs(all_signs:List, text:str):\n",
    "    \"\"\"Replace sign names in text with a generic word 'friend'\"\"\"\n",
    "    for s in all_signs:\n",
    "        if s in text:\n",
    "            text = text.replace(s, 'friend')\n",
    "    return text\n",
    "\n",
    "if __name__ == \"__main__\":\n",
    "    print(\"-\"*50)\n",
    "    df = pd.read_csv(os.path.join(DATA_DIR, 'horoscope_final.csv'), \n",
    "                     names=['sign', 'category', 'date', 'text'])\n",
    "    print(f\"Original Date Shape: {df.shape}\")\n",
    "    print(\"Removing duplicates...\")\n",
    "    df = remove_duplicates(df)\n",
    "    all_signs = [s.title() for s in df.sign.value_counts().index]\n",
    "    print(f\"New Data Shape {df.shape}\")\n",
    "    df['text'] = df.text.apply(lambda x: replace_signs(all_signs, x))\n",
    "    \n",
    "    df = df[['category', 'text']]\n",
    "    df.to_csv(os.path.join(DATA_DIR, 'horoscope_cleaned.csv'),\n",
    "              header=False,\n",
    "              index=False)\n",
    "    print(\"File Saved.\")\n",
    "    print(\"Success!\")\n",
    "    print(\"-\"*50)"
   ]
  },
  {
   "cell_type": "code",
   "execution_count": 63,
   "metadata": {},
   "outputs": [],
   "source": [
    "test = \"Minor tensions could arise today, Aries. People close to you, perhaps your mate or parents, seem to be trying to force you to adopt a behavior that you aren't at all willing to follow. Will you negotiate your independence gently or tear yourself free from their domination? The second possibility seems more likely.\""
   ]
  },
  {
   "cell_type": "code",
   "execution_count": 64,
   "metadata": {},
   "outputs": [
    {
     "name": "stdout",
     "output_type": "stream",
     "text": [
      "Minor tensions could arise today, friend. People close to you, perhaps your mate or parents, seem to be trying to force you to adopt a behavior that you aren't at all willing to follow. Will you negotiate your independence gently or tear yourself free from their domination? The second possibility seems more likely.\n"
     ]
    }
   ],
   "source": [
    "for s in all_signs:\n",
    "    if s in test:\n",
    "        test = test.replace(s, 'friend')\n",
    "print(test)"
   ]
  },
  {
   "cell_type": "code",
   "execution_count": null,
   "metadata": {},
   "outputs": [],
   "source": []
  },
  {
   "cell_type": "code",
   "execution_count": null,
   "metadata": {},
   "outputs": [],
   "source": []
  },
  {
   "cell_type": "code",
   "execution_count": null,
   "metadata": {},
   "outputs": [],
   "source": []
  },
  {
   "cell_type": "code",
   "execution_count": null,
   "metadata": {},
   "outputs": [],
   "source": []
  },
  {
   "cell_type": "code",
   "execution_count": null,
   "metadata": {},
   "outputs": [],
   "source": []
  }
 ],
 "metadata": {
  "kernelspec": {
   "display_name": "Python 3",
   "language": "python",
   "name": "python3"
  },
  "language_info": {
   "codemirror_mode": {
    "name": "ipython",
    "version": 3
   },
   "file_extension": ".py",
   "mimetype": "text/x-python",
   "name": "python",
   "nbconvert_exporter": "python",
   "pygments_lexer": "ipython3",
   "version": "3.6.9"
  }
 },
 "nbformat": 4,
 "nbformat_minor": 4
}
